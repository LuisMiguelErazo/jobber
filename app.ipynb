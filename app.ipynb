{
 "cells": [
  {
   "cell_type": "code",
   "execution_count": 1,
   "id": "39fd39f1-5b22-45b4-97f8-790ee02ece49",
   "metadata": {
    "tags": []
   },
   "outputs": [
    {
     "name": "stdout",
     "output_type": "stream",
     "text": [
      "Requirement already satisfied: streamlit in /Users/luismiguelerazo/anaconda3/lib/python3.11/site-packages (1.35.0)\n",
      "Requirement already satisfied: altair<6,>=4.0 in /Users/luismiguelerazo/anaconda3/lib/python3.11/site-packages (from streamlit) (5.3.0)\n",
      "Requirement already satisfied: blinker<2,>=1.0.0 in /Users/luismiguelerazo/anaconda3/lib/python3.11/site-packages (from streamlit) (1.8.2)\n",
      "Requirement already satisfied: cachetools<6,>=4.0 in /Users/luismiguelerazo/anaconda3/lib/python3.11/site-packages (from streamlit) (5.3.3)\n",
      "Requirement already satisfied: click<9,>=7.0 in /Users/luismiguelerazo/anaconda3/lib/python3.11/site-packages (from streamlit) (8.0.4)\n",
      "Requirement already satisfied: numpy<2,>=1.19.3 in /Users/luismiguelerazo/anaconda3/lib/python3.11/site-packages (from streamlit) (1.24.3)\n",
      "Requirement already satisfied: packaging<25,>=16.8 in /Users/luismiguelerazo/anaconda3/lib/python3.11/site-packages (from streamlit) (23.1)\n",
      "Requirement already satisfied: pandas<3,>=1.3.0 in /Users/luismiguelerazo/anaconda3/lib/python3.11/site-packages (from streamlit) (2.0.3)\n",
      "Requirement already satisfied: pillow<11,>=7.1.0 in /Users/luismiguelerazo/anaconda3/lib/python3.11/site-packages (from streamlit) (10.0.1)\n",
      "Requirement already satisfied: protobuf<5,>=3.20 in /Users/luismiguelerazo/anaconda3/lib/python3.11/site-packages (from streamlit) (4.25.3)\n",
      "Requirement already satisfied: pyarrow>=7.0 in /Users/luismiguelerazo/anaconda3/lib/python3.11/site-packages (from streamlit) (11.0.0)\n",
      "Requirement already satisfied: requests<3,>=2.27 in /Users/luismiguelerazo/anaconda3/lib/python3.11/site-packages (from streamlit) (2.31.0)\n",
      "Requirement already satisfied: rich<14,>=10.14.0 in /Users/luismiguelerazo/anaconda3/lib/python3.11/site-packages (from streamlit) (13.7.1)\n",
      "Requirement already satisfied: tenacity<9,>=8.1.0 in /Users/luismiguelerazo/anaconda3/lib/python3.11/site-packages (from streamlit) (8.2.2)\n",
      "Requirement already satisfied: toml<2,>=0.10.1 in /Users/luismiguelerazo/anaconda3/lib/python3.11/site-packages (from streamlit) (0.10.2)\n",
      "Requirement already satisfied: typing-extensions<5,>=4.3.0 in /Users/luismiguelerazo/anaconda3/lib/python3.11/site-packages (from streamlit) (4.7.1)\n",
      "Requirement already satisfied: gitpython!=3.1.19,<4,>=3.0.7 in /Users/luismiguelerazo/anaconda3/lib/python3.11/site-packages (from streamlit) (3.1.43)\n",
      "Requirement already satisfied: pydeck<1,>=0.8.0b4 in /Users/luismiguelerazo/anaconda3/lib/python3.11/site-packages (from streamlit) (0.9.1)\n",
      "Requirement already satisfied: tornado<7,>=6.0.3 in /Users/luismiguelerazo/anaconda3/lib/python3.11/site-packages (from streamlit) (6.3.2)\n",
      "Requirement already satisfied: jinja2 in /Users/luismiguelerazo/anaconda3/lib/python3.11/site-packages (from altair<6,>=4.0->streamlit) (3.1.2)\n",
      "Requirement already satisfied: jsonschema>=3.0 in /Users/luismiguelerazo/anaconda3/lib/python3.11/site-packages (from altair<6,>=4.0->streamlit) (4.17.3)\n",
      "Requirement already satisfied: toolz in /Users/luismiguelerazo/anaconda3/lib/python3.11/site-packages (from altair<6,>=4.0->streamlit) (0.12.0)\n",
      "Requirement already satisfied: gitdb<5,>=4.0.1 in /Users/luismiguelerazo/anaconda3/lib/python3.11/site-packages (from gitpython!=3.1.19,<4,>=3.0.7->streamlit) (4.0.11)\n",
      "Requirement already satisfied: python-dateutil>=2.8.2 in /Users/luismiguelerazo/anaconda3/lib/python3.11/site-packages (from pandas<3,>=1.3.0->streamlit) (2.8.2)\n",
      "Requirement already satisfied: pytz>=2020.1 in /Users/luismiguelerazo/anaconda3/lib/python3.11/site-packages (from pandas<3,>=1.3.0->streamlit) (2023.3.post1)\n",
      "Requirement already satisfied: tzdata>=2022.1 in /Users/luismiguelerazo/anaconda3/lib/python3.11/site-packages (from pandas<3,>=1.3.0->streamlit) (2023.3)\n",
      "Requirement already satisfied: charset-normalizer<4,>=2 in /Users/luismiguelerazo/anaconda3/lib/python3.11/site-packages (from requests<3,>=2.27->streamlit) (2.0.4)\n",
      "Requirement already satisfied: idna<4,>=2.5 in /Users/luismiguelerazo/anaconda3/lib/python3.11/site-packages (from requests<3,>=2.27->streamlit) (3.4)\n",
      "Requirement already satisfied: urllib3<3,>=1.21.1 in /Users/luismiguelerazo/anaconda3/lib/python3.11/site-packages (from requests<3,>=2.27->streamlit) (1.26.16)\n",
      "Requirement already satisfied: certifi>=2017.4.17 in /Users/luismiguelerazo/anaconda3/lib/python3.11/site-packages (from requests<3,>=2.27->streamlit) (2024.2.2)\n",
      "Requirement already satisfied: markdown-it-py>=2.2.0 in /Users/luismiguelerazo/anaconda3/lib/python3.11/site-packages (from rich<14,>=10.14.0->streamlit) (2.2.0)\n",
      "Requirement already satisfied: pygments<3.0.0,>=2.13.0 in /Users/luismiguelerazo/anaconda3/lib/python3.11/site-packages (from rich<14,>=10.14.0->streamlit) (2.15.1)\n",
      "Requirement already satisfied: smmap<6,>=3.0.1 in /Users/luismiguelerazo/anaconda3/lib/python3.11/site-packages (from gitdb<5,>=4.0.1->gitpython!=3.1.19,<4,>=3.0.7->streamlit) (5.0.1)\n",
      "Requirement already satisfied: MarkupSafe>=2.0 in /Users/luismiguelerazo/anaconda3/lib/python3.11/site-packages (from jinja2->altair<6,>=4.0->streamlit) (2.1.1)\n",
      "Requirement already satisfied: attrs>=17.4.0 in /Users/luismiguelerazo/anaconda3/lib/python3.11/site-packages (from jsonschema>=3.0->altair<6,>=4.0->streamlit) (22.1.0)\n",
      "Requirement already satisfied: pyrsistent!=0.17.0,!=0.17.1,!=0.17.2,>=0.14.0 in /Users/luismiguelerazo/anaconda3/lib/python3.11/site-packages (from jsonschema>=3.0->altair<6,>=4.0->streamlit) (0.18.0)\n",
      "Requirement already satisfied: mdurl~=0.1 in /Users/luismiguelerazo/anaconda3/lib/python3.11/site-packages (from markdown-it-py>=2.2.0->rich<14,>=10.14.0->streamlit) (0.1.0)\n",
      "Requirement already satisfied: six>=1.5 in /Users/luismiguelerazo/anaconda3/lib/python3.11/site-packages (from python-dateutil>=2.8.2->pandas<3,>=1.3.0->streamlit) (1.16.0)\n",
      "Note: you may need to restart the kernel to use updated packages.\n"
     ]
    }
   ],
   "source": [
    "pip install streamlit"
   ]
  },
  {
   "cell_type": "code",
   "execution_count": 3,
   "id": "2a8bb206-3d04-4e96-88fa-00086f47c128",
   "metadata": {
    "tags": []
   },
   "outputs": [
    {
     "name": "stderr",
     "output_type": "stream",
     "text": [
      "2024-05-29 18:46:10.003 \n",
      "  \u001b[33m\u001b[1mWarning:\u001b[0m to view this Streamlit app on a browser, run it with the following\n",
      "  command:\n",
      "\n",
      "    streamlit run /Users/luismiguelerazo/anaconda3/lib/python3.11/site-packages/ipykernel_launcher.py [ARGUMENTS]\n",
      "2024-05-29 18:46:10.004 Session state does not function when running a script without `streamlit run`\n"
     ]
    }
   ],
   "source": [
    "import pandas as pd\n",
    "import matplotlib.pyplot as plt\n",
    "import numpy as np\n",
    "import streamlit as st\n",
    "import re  # Import the re module\n",
    "\n",
    "# Load the data into a DataFrame\n",
    "df = pd.read_csv('df.csv')\n",
    "\n",
    "# Custom sorting function to sort alphabetically with numbers at the end\n",
    "def custom_sort(values):\n",
    "    # Separate strings that start with numbers\n",
    "    alpha_part = sorted([v for v in values if not re.match(r'^\\d', v)])\n",
    "    numeric_part = sorted([v for v in values if re.match(r'^\\d', v)])\n",
    "    return alpha_part + numeric_part\n",
    "\n",
    "# Ensure the category and title options are sorted using the custom sorting function\n",
    "sorted_categories = custom_sort(df['category'].unique())\n",
    "sorted_titles = custom_sort(df['title'].unique())\n",
    "\n",
    "# Streamlit app\n",
    "st.title('Job Salary Explorer')\n",
    "\n",
    "# Create dropdowns\n",
    "selected_category = st.selectbox('Select Category:', sorted_categories)\n",
    "filtered_titles = custom_sort(df[df['category'] == selected_category]['title'].unique())\n",
    "selected_title = st.selectbox('Select Title:', filtered_titles)\n",
    "\n",
    "# Function to show salaries and plot\n",
    "def show_salaries(category, title):\n",
    "    filtered_df = df[(df['category'] == category) & (df['title'] == title)]\n",
    "    \n",
    "    if filtered_df.empty:\n",
    "        st.write(\"No data found for the provided category and title.\")\n",
    "        return\n",
    "\n",
    "    max_salary = filtered_df['max_annual_salary'].values[0]\n",
    "    med_salary = filtered_df['med_annual_salary'].values[0]\n",
    "    min_salary = filtered_df['min_annual_salary'].values[0]\n",
    "\n",
    "    st.write(f\"Salaries for {title} in the {category} category:\")\n",
    "    st.write(f\"Max Annual Salary: {max_salary}\")\n",
    "    st.write(f\"Median Annual Salary: {med_salary}\")\n",
    "    st.write(f\"Min Annual Salary: {min_salary}\")\n",
    "\n",
    "    salaries = [min_salary, med_salary, max_salary]\n",
    "    salary_labels = ['Min Annual Salary', 'Median Annual Salary', 'Max Annual Salary']\n",
    "\n",
    "    norm_salaries = (salaries - np.min(salaries)) / (np.max(salaries) - np.min(salaries))\n",
    "    scaled_norm_salaries = 0.3 + 0.7 * norm_salaries\n",
    "    colors = plt.cm.Blues(scaled_norm_salaries)\n",
    "\n",
    "    fig, ax = plt.subplots()\n",
    "    bars = ax.bar(salary_labels, salaries, color=colors)\n",
    "    ax.set_xlabel('Salary Type')\n",
    "    ax.set_ylabel('Annual Salary')\n",
    "    ax.set_title(f'Salary Ranges for {title} in {category}')\n",
    "\n",
    "    for bar in bars:\n",
    "        height = bar.get_height()\n",
    "        ax.text(bar.get_x() + bar.get_width() / 2, height, f'{height:.2f}', ha='center', va='bottom')\n",
    "\n",
    "    st.pyplot(fig)\n",
    "\n",
    "# Button to trigger the salary display\n",
    "if st.button('Show Salaries'):\n",
    "    show_salaries(selected_category, selected_title)\n"
   ]
  },
  {
   "cell_type": "code",
   "execution_count": null,
   "id": "7e5072fc-da6e-4cb3-882c-f8dd4c1ff9c3",
   "metadata": {},
   "outputs": [],
   "source": []
  }
 ],
 "metadata": {
  "kernelspec": {
   "display_name": "Python 3 (ipykernel)",
   "language": "python",
   "name": "python3"
  },
  "language_info": {
   "codemirror_mode": {
    "name": "ipython",
    "version": 3
   },
   "file_extension": ".py",
   "mimetype": "text/x-python",
   "name": "python",
   "nbconvert_exporter": "python",
   "pygments_lexer": "ipython3",
   "version": "3.11.5"
  }
 },
 "nbformat": 4,
 "nbformat_minor": 5
}
